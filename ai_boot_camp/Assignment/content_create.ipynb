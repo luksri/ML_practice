{
 "cells": [
  {
   "cell_type": "code",
   "execution_count": 11,
   "metadata": {},
   "outputs": [],
   "source": [
    "import os\n",
    "from dotenv import load_dotenv\n",
    "load_dotenv()\n",
    "\n",
    "os.environ[\"GROQ_API_KEY\"]=os.getenv(\"GROQ_API_KEY\")\n",
    "os.environ[\"OPENAI_API_KEY\"]=os.getenv(\"OPENAI_API_KEY\")"
   ]
  },
  {
   "cell_type": "code",
   "execution_count": 12,
   "metadata": {},
   "outputs": [],
   "source": [
    "from typing_extensions import TypedDict\n",
    "from langchain_core.messages import AnyMessage\n",
    "from typing import Annotated\n",
    "from langgraph.graph.message import add_messages\n",
    "\n",
    "class MessagesState(TypedDict):\n",
    "    messages:Annotated[list[AnyMessage],add_messages]\n"
   ]
  },
  {
   "cell_type": "code",
   "execution_count": 13,
   "metadata": {},
   "outputs": [],
   "source": [
    "# from langchain_openai import ChatOpenAI\n",
    "\n",
    "# llm=ChatOpenAI(model=\"gpt-4o\")"
   ]
  },
  {
   "cell_type": "code",
   "execution_count": 14,
   "metadata": {},
   "outputs": [],
   "source": [
    "from langchain_groq import ChatGroq\n",
    "\n",
    "llm=ChatGroq(model=\"qwen-2.5-32b\")\n",
    "# result=llm.invoke(messages)\n",
    "# result"
   ]
  },
  {
   "cell_type": "code",
   "execution_count": 15,
   "metadata": {},
   "outputs": [],
   "source": [
    "from langchain_core.messages import HumanMessage, SystemMessage\n",
    "\n",
    "\n",
    "def title(state:MessagesState):\n",
    "    # System message\n",
    "    sys_msg = SystemMessage(content=\"You are a helpful assistant. creata a title for user ask\")\n",
    "    return {\"messages\":[llm.invoke([sys_msg] + state[\"messages\"])]}\n",
    "\n",
    "def content(state:MessagesState):\n",
    "    # System message\n",
    "    sys_msg = SystemMessage(content=\"You are a helpful assistant. explain the topic in not more than 10\")\n",
    "    return {\"messages\":[llm.invoke([sys_msg] + state[\"messages\"])]}"
   ]
  },
  {
   "cell_type": "code",
   "execution_count": 16,
   "metadata": {},
   "outputs": [
    {
     "data": {
      "image/png": "[encoded data removed]",
      "text/plain": [
       "<IPython.core.display.Image object>"
      ]
     },
     "metadata": {},
     "output_type": "display_data"
    }
   ],
   "source": [
    "from langgraph.graph import START, StateGraph, END\n",
    "from langgraph.prebuilt import tools_condition\n",
    "from langgraph.prebuilt import ToolNode\n",
    "from IPython.display import Image, display\n",
    "\n",
    "\n",
    "builder=StateGraph(MessagesState)\n",
    "\n",
    "\n",
    "## Define the node\n",
    "builder.add_node(\"title\",title)\n",
    "builder.add_node(\"content\",content)\n",
    "\n",
    "## Define the edges\n",
    "\n",
    "builder.add_edge(START,\"title\")\n",
    "builder.add_edge(\"title\", \"content\")\n",
    "builder.add_edge(\"content\", END)\n",
    "\n",
    "react_graph=builder.compile()\n",
    "# Show\n",
    "display(Image(react_graph.get_graph().draw_mermaid_png()))"
   ]
  },
  {
   "cell_type": "code",
   "execution_count": 19,
   "metadata": {},
   "outputs": [],
   "source": [
    "messages = [HumanMessage(content=\"who is sachin tendulkar?\")]\n",
    "messages = react_graph.invoke({\"messages\": messages})"
   ]
  },
  {
   "cell_type": "code",
   "execution_count": 20,
   "metadata": {},
   "outputs": [
    {
     "name": "stdout",
     "output_type": "stream",
     "text": [
      "================================\u001b[1m Human Message \u001b[0m=================================\n",
      "\n",
      "who is sachin tendulkar?\n",
      "==================================\u001b[1m Ai Message \u001b[0m==================================\n",
      "\n",
      "\"Who is Sachin Tendulkar? Exploring the Legacy of Cricket's Greatest Icon\"\n",
      "==================================\u001b[1m Ai Message \u001b[0m==================================\n",
      "\n",
      "Sachin Tendulkar is a former Indian cricketer often regarded as one of the greatest batsmen in the history of the sport. Born in Bombay (now Mumbai) in 1973, he made his Test debut in 1989 at the age of 16, becoming one of the youngest players to represent India. Tendulkar is known for his elegant batting style and his ability to perform under pressure. He retired in 2013 after scoring a record 100 international centuries across Test and ODI formats. Tendulkar was awarded the Bharat Ratna, India's highest civilian honor, in 2013, recognizing his immense contributions to cricket. His career is marked by numerous achievements, including multiple Man of the Match awards and the admiration of millions of fans worldwide.\n"
     ]
    }
   ],
   "source": [
    "for m in messages['messages']:\n",
    "    m.pretty_print()"
   ]
  }
 ],
 "metadata": {
  "kernelspec": {
   "display_name": "bootcamp_venv",
   "language": "python",
   "name": "python3"
  },
  "language_info": {
   "codemirror_mode": {
    "name": "ipython",
    "version": 3
   },
   "file_extension": ".py",
   "mimetype": "text/x-python",
   "name": "python",
   "nbconvert_exporter": "python",
   "pygments_lexer": "ipython3",
   "version": "3.12.8"
  }
 },
 "nbformat": 4,
 "nbformat_minor": 2
}
