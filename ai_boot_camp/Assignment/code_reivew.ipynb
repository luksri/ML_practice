{
 "cells": [
  {
   "cell_type": "code",
   "execution_count": 26,
   "metadata": {},
   "outputs": [],
   "source": [
    "from typing_extensions import TypedDict\n",
    "from langgraph.graph import StateGraph, START, END\n",
    "from pydantic import BaseModel\n",
    "from dotenv import load_dotenv\n",
    "load_dotenv()\n",
    "from langchain_groq import ChatGroq\n",
    "import os\n",
    "from langchain_ollama.llms import OllamaLLM\n",
    "import unittest\n",
    "import importlib.util\n",
    "from IPython.display import Image\n",
    "import re\n",
    "import pytest\n",
    "import subprocess"
   ]
  },
  {
   "cell_type": "code",
   "execution_count": 27,
   "metadata": {},
   "outputs": [],
   "source": [
    "class State(TypedDict):\n",
    "    task: str\n",
    "    code:str\n",
    "    tests:str\n",
    "    test_results:str\n",
    "    comments: str\n"
   ]
  },
  {
   "cell_type": "code",
   "execution_count": 28,
   "metadata": {},
   "outputs": [],
   "source": [
    "llm = OllamaLLM(model=\"codellama:13b\")"
   ]
  },
  {
   "cell_type": "markdown",
   "metadata": {},
   "source": [
    "### Nodes"
   ]
  },
  {
   "cell_type": "code",
   "execution_count": 29,
   "metadata": {},
   "outputs": [],
   "source": [
    "# Nodes\n",
    "def generate_code(state: State):\n",
    "    \"\"\"First LLM call to generate code\"\"\"\n",
    "\n",
    "    msg = llm.invoke(f\"\"\"Write a python program for {state['task']}.\n",
    "                        **Do not include explanations**, only executable function code. \n",
    "                        Ensure the function has proper indentation and no markdown syntax.\"\"\")\n",
    "    # print(msg)\n",
    "    exec_code = extract_code(msg)\n",
    "    return {\"code\": exec_code}\n",
    "\n",
    "def generate_test(state: State):\n",
    "    \"\"\"Second LLM call to generate the tests\"\"\"\n",
    "    msg = llm.invoke(f\"\"\"Write unit tests for {state['code']} using python pytest. \n",
    "                        Only return valid Python code, with no explanations or markdown.\n",
    "                        \"\"\")\n",
    "    # print(msg)\n",
    "    exec_code = extract_code(msg)\n",
    "    return {\"tests\": exec_code}\n",
    "\n",
    "def run_tests(state:State):\n",
    "    \"\"\"function to execute the tests and show results\"\"\"\n",
    "    # Save generated code\n",
    "    with open(\"generated_code.py\", \"w\") as f:\n",
    "        f.write(state[\"code\"])\n",
    "\n",
    "    # Save generated tests\n",
    "    with open(\"test_generated_code.py\", \"w\") as f:\n",
    "        f.write(state[\"tests\"])\n",
    "\n",
    "    module_name = \"generated_code\"\n",
    "    module_path = \"generated_code.py\"\n",
    "    test_path = \"test_generated_code.py\"\n",
    "\n",
    "    # Ensure both generated code and test files exist\n",
    "    if not os.path.exists(module_path):\n",
    "        print(\"Error: generated_code.py not found.\")\n",
    "        return\n",
    "    if not os.path.exists(test_path):\n",
    "        print(\"Error: test_generated_code.py not found.\")\n",
    "        return\n",
    "\n",
    "    # Inject import statement into test file if missing\n",
    "    with open(test_path, \"r\") as f:\n",
    "        test_code = f.read()\n",
    "\n",
    "    if f\"from {module_name} import\" not in test_code:\n",
    "        with open(test_path, \"w\") as f:\n",
    "            f.write(f\"from {module_name} import *\\n\" + test_code)\n",
    "            \n",
    "    result = execute_tests(test_path)\n",
    "    return {\"test_results\": \"Passed\" if result['exit_code'] == 0 else \"Failed\"}\n",
    "\n",
    "def review(state:State):\n",
    "    \"\"\"Peer Review\"\"\" ## yes --> comments to fix the code. no -> end\n",
    "    if state[\"test_results\"] == 'Failed':\n",
    "        return {\"comments\": \"yes\"}\n",
    "    return {\"comments\":\"no\"}\n",
    "\n",
    "def extract_code(response: str) -> str:\n",
    "    \"\"\"Extract valid Python code from model response.\"\"\"\n",
    "    code_match = re.search(r\"```python(.*?)```\", response, re.DOTALL)\n",
    "    return code_match.group(1).strip() if code_match else response.strip()\n",
    "\n",
    "def execute_tests(test_name: str) -> dict:\n",
    "    result = subprocess.run([\"pytest\", test_name, \"-q\", \"--color=no\"],\n",
    "                            capture_output=True, text=True)\n",
    "    output = result.stdout\n",
    "\n",
    "    # Extract \"X passed, Y failed\" from output\n",
    "    match = re.search(r\"(\\d+) passed.*?(\\d+) failed\", output)\n",
    "\n",
    "    if match:\n",
    "        passed = int(match.group(1))\n",
    "        failed = int(match.group(2))\n",
    "    else:\n",
    "        passed = int(re.search(r\"(\\d+) passed\", output).group(1)) if \"passed\" in output else 0\n",
    "        failed = int(re.search(r\"(\\d+) failed\", output).group(1)) if \"failed\" in output else 0\n",
    "    \n",
    "    return {\"passed\": passed, \"failed\": failed, \"exit_code\": result.returncode}\n"
   ]
  },
  {
   "cell_type": "code",
   "execution_count": 30,
   "metadata": {},
   "outputs": [
    {
     "data": {
      "image/png": "[encoded data removed]",
      "text/plain": [
       "<IPython.core.display.Image object>"
      ]
     },
     "metadata": {},
     "output_type": "display_data"
    }
   ],
   "source": [
    "workflow = StateGraph(State)\n",
    "\n",
    "# Add nodes\n",
    "workflow.add_node(\"generate_code\", generate_code)\n",
    "workflow.add_node(\"generate_tests\", generate_test)\n",
    "workflow.add_node(\"run_tests\", run_tests)\n",
    "workflow.add_node(\"review\", review)\n",
    "\n",
    "# Add edges to connect nodes\n",
    "workflow.add_edge(START, \"generate_code\")\n",
    "workflow.add_edge(\"generate_code\", \"generate_tests\")\n",
    "workflow.add_conditional_edges(\n",
    "    \"run_tests\",\n",
    "    lambda state: state[\"test_results\"],\n",
    "    {\n",
    "        \"Failed\": \"generate_code\",\n",
    "        \"Passed\": \"review\"\n",
    "    }\n",
    ")\n",
    "\n",
    "workflow.add_conditional_edges(\n",
    "    \"review\",\n",
    "    lambda state: state[\"comments\"],\n",
    "    {\n",
    "        \"yes\": \"generate_code\",\n",
    "        \"no\": END\n",
    "    }\n",
    ")\n",
    "workflow.add_edge(\"generate_tests\", \"run_tests\")\n",
    "\n",
    "# Compile\n",
    "chain = workflow.compile()\n",
    "\n",
    "# Show workflow\n",
    "display(Image(chain.get_graph().draw_mermaid_png()))"
   ]
  },
  {
   "cell_type": "code",
   "execution_count": 31,
   "metadata": {},
   "outputs": [],
   "source": [
    "# Invoke\n",
    "state = chain.invoke({\"task\": \"write a program to find a number is prime\"})"
   ]
  },
  {
   "cell_type": "code",
   "execution_count": 32,
   "metadata": {},
   "outputs": [
    {
     "data": {
      "text/plain": [
       "'Passed'"
      ]
     },
     "execution_count": 32,
     "metadata": {},
     "output_type": "execute_result"
    }
   ],
   "source": [
    "state['test_results']"
   ]
  }
 ],
 "metadata": {
  "kernelspec": {
   "display_name": "Python 3",
   "language": "python",
   "name": "python3"
  },
  "language_info": {
   "codemirror_mode": {
    "name": "ipython",
    "version": 3
   },
   "file_extension": ".py",
   "mimetype": "text/x-python",
   "name": "python",
   "nbconvert_exporter": "python",
   "pygments_lexer": "ipython3",
   "version": "3.12.8"
  }
 },
 "nbformat": 4,
 "nbformat_minor": 2
}
