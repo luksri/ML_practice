{
 "cells": [
  {
   "cell_type": "code",
   "execution_count": 1,
   "id": "6a4953b5-7a35-4302-bde8-6f34c9d3abd2",
   "metadata": {},
   "outputs": [
    {
     "name": "stdout",
     "output_type": "stream",
     "text": [
      "Intel MKL WARNING: Support of Intel(R) Streaming SIMD Extensions 4.2 (Intel(R) SSE4.2) enabled only processors has been deprecated. Intel oneAPI Math Kernel Library 2025.0 will require Intel(R) Advanced Vector Extensions (Intel(R) AVX) instructions.\n",
      "Intel MKL WARNING: Support of Intel(R) Streaming SIMD Extensions 4.2 (Intel(R) SSE4.2) enabled only processors has been deprecated. Intel oneAPI Math Kernel Library 2025.0 will require Intel(R) Advanced Vector Extensions (Intel(R) AVX) instructions.\n"
     ]
    }
   ],
   "source": [
    "import joblib\n",
    "import flask\n",
    "import pandas as pd\n",
    "import os"
   ]
  },
  {
   "cell_type": "code",
   "execution_count": 2,
   "id": "9176e95d-7052-42ed-a5e8-5d83d8b64a07",
   "metadata": {},
   "outputs": [],
   "source": [
    "app = flask.Flask(\"test_service\")\n",
    "dir = \".\""
   ]
  },
  {
   "cell_type": "code",
   "execution_count": 3,
   "id": "2c6bcf52-af01-4066-b38f-d9e2d3357c96",
   "metadata": {},
   "outputs": [],
   "source": [
    "@app.route('/titanic/predict/', methods=['POST'])\n",
    "def predict():\n",
    "    data = flask.request.json\n",
    "    print(\"in service\")\n",
    "    print(data)\n",
    "    titanic_test = pd.DataFrame(data)\n",
    "    #print(titanic_test.info()) \n",
    "    \n",
    "    objects = joblib.load(os.path.join(dir,'titanic_v1.pkl') )\n",
    "    titanic_test['Sex_encoded'] = objects.get('le_sex').transform(titanic_test['Sex'])\n",
    "    titanic_test['Embarked_encoded'] = objects.get('le_emb').transform(titanic_test['Embarked'])\n",
    "    titanic_test['Age_encoded'] = objects.get('imp_age').transform(titanic_test[['Age']])\n",
    "    features = objects.get('features')\n",
    "    X_test = titanic_test[features]\n",
    "    result = objects.get('clf').predict(X_test)\n",
    "    print(result)\n",
    "    return flask.jsonify(target=str(result)) \n",
    "    "
   ]
  },
  {
   "cell_type": "code",
   "execution_count": 4,
   "id": "fbd8bff6-5ddc-4f40-8f1d-7a1613d13deb",
   "metadata": {},
   "outputs": [
    {
     "name": "stdout",
     "output_type": "stream",
     "text": [
      " * Serving Flask app 'test_service'\n",
      " * Debug mode: off\n"
     ]
    },
    {
     "name": "stderr",
     "output_type": "stream",
     "text": [
      "WARNING: This is a development server. Do not use it in a production deployment. Use a production WSGI server instead.\n",
      " * Running on http://127.0.0.1:8080\n",
      "Press CTRL+C to quit\n"
     ]
    },
    {
     "name": "stdout",
     "output_type": "stream",
     "text": [
      "in service\n",
      "[{'Age': 38, 'PassengerId': 100, 'Sex': 'male', 'Fare': 34.6, 'Pclass': 1, 'Embarked': 'S', 'Parch': 2, 'SibSp': 1, 'Ticket': 'XXX', 'Cabin': 'X'}, {'Age': 38, 'PassengerId': 200, 'Sex': 'female', 'Fare': 38.6, 'Pclass': 1, 'Embarked': 'S', 'Parch': 2, 'SibSp': 1, 'Ticket': 'XXX', 'Cabin': 'X'}]\n"
     ]
    },
    {
     "name": "stderr",
     "output_type": "stream",
     "text": [
      "127.0.0.1 - - [01/Jun/2024 16:00:33] \"POST /titanic/predict/ HTTP/1.1\" 200 -\n"
     ]
    },
    {
     "name": "stdout",
     "output_type": "stream",
     "text": [
      "[0 1]\n"
     ]
    }
   ],
   "source": [
    "if __name__ == '__main__':\n",
    "       app.run(port=8080)"
   ]
  },
  {
   "cell_type": "code",
   "execution_count": null,
   "id": "f5aafc8b-a5a0-4261-9b62-d60dc7a54b2d",
   "metadata": {},
   "outputs": [],
   "source": []
  }
 ],
 "metadata": {
  "kernelspec": {
   "display_name": "Python 3 (ipykernel)",
   "language": "python",
   "name": "python3"
  },
  "language_info": {
   "codemirror_mode": {
    "name": "ipython",
    "version": 3
   },
   "file_extension": ".py",
   "mimetype": "text/x-python",
   "name": "python",
   "nbconvert_exporter": "python",
   "pygments_lexer": "ipython3",
   "version": "3.9.19"
  }
 },
 "nbformat": 4,
 "nbformat_minor": 5
}
