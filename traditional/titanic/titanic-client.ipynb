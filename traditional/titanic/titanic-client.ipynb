{
 "cells": [
  {
   "cell_type": "code",
   "execution_count": 13,
   "id": "3aa0bc15-5ff5-441f-aef2-20a57036fd3b",
   "metadata": {
    "tags": []
   },
   "outputs": [
    {
     "name": "stdout",
     "output_type": "stream",
     "text": [
      "{'target': '[0 1]'}\n"
     ]
    }
   ],
   "source": [
    "import requests\n",
    "\n",
    "url =  'http://localhost:8080/titanic/predict/'\n",
    "data = [{ \"Age\":38, \"PassengerId\":100, \"Sex\":\"male\", \"Fare\":34.6, \"Pclass\":1, \"Embarked\":\"S\", \"Parch\":2, \"SibSp\":1, \"Ticket\":\"XXX\", \"Cabin\":\"X\"},\n",
    "        { \"Age\":38, \"PassengerId\":200, \"Sex\":\"female\", \"Fare\":38.6, \"Pclass\":1, \"Embarked\":\"S\", \"Parch\":2, \"SibSp\":1, \"Ticket\":\"XXX\", \"Cabin\":\"X\"}\n",
    "        ]\n",
    "r = requests.post(url, json=data)\n",
    "print(r.json())"
   ]
  },
  {
   "cell_type": "code",
   "execution_count": null,
   "id": "cab24066-cc30-45b1-8295-646d08ab122f",
   "metadata": {},
   "outputs": [],
   "source": []
  },
  {
   "cell_type": "code",
   "execution_count": null,
   "id": "7b14d6f9-3152-4afb-80ee-66370b12de0c",
   "metadata": {},
   "outputs": [],
   "source": []
  }
 ],
 "metadata": {
  "kernelspec": {
   "display_name": "Python 3 (ipykernel)",
   "language": "python",
   "name": "python3"
  },
  "language_info": {
   "codemirror_mode": {
    "name": "ipython",
    "version": 3
   },
   "file_extension": ".py",
   "mimetype": "text/x-python",
   "name": "python",
   "nbconvert_exporter": "python",
   "pygments_lexer": "ipython3",
   "version": "3.9.19"
  }
 },
 "nbformat": 4,
 "nbformat_minor": 5
}
