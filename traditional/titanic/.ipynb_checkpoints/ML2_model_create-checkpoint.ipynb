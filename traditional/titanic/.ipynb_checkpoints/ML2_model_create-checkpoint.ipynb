{
 "cells": [
  {
   "cell_type": "code",
   "execution_count": null,
   "id": "949f5f6c-8715-461b-b509-9c65ad3b1c49",
   "metadata": {},
   "outputs": [
    {
     "name": "stdout",
     "output_type": "stream",
     "text": [
      "Intel MKL WARNING: Support of Intel(R) Streaming SIMD Extensions 4.2 (Intel(R) SSE4.2) enabled only processors has been deprecated. Intel oneAPI Math Kernel Library 2025.0 will require Intel(R) Advanced Vector Extensions (Intel(R) AVX) instructions.\n",
      "Intel MKL WARNING: Support of Intel(R) Streaming SIMD Extensions 4.2 (Intel(R) SSE4.2) enabled only processors has been deprecated. Intel oneAPI Math Kernel Library 2025.0 will require Intel(R) Advanced Vector Extensions (Intel(R) AVX) instructions.\n"
     ]
    }
   ],
   "source": [
    "import pandas as pd\n",
    "from sklearn import tree\n",
    "from sklearn import preprocessing"
   ]
  },
  {
   "cell_type": "code",
   "execution_count": null,
   "id": "e3ddfcbd-fc1e-4da2-8735-41068b1fb3e8",
   "metadata": {},
   "outputs": [],
   "source": [
    "tr_data = pd.read_csv(r'./train.csv')\n",
    "tr_data.head()"
   ]
  },
  {
   "cell_type": "code",
   "execution_count": null,
   "id": "298bf56e-bfed-43a5-b842-67cc4aa7db49",
   "metadata": {},
   "outputs": [],
   "source": [
    "### clean the data now. to do this, we need to convert the data to canonical form so that we can decision trees(requirement by the algo)\n",
    "sex_le = preprocessing.LabelEncoder()\n",
    "# sex_le.fit(tr_data['Sex'])\n",
    "# sex_le.classes_\n",
    "tr_data['Sex_encoded']=sex_le.fit_transform(tr_data['Sex'])\n",
    "tr_data.head()"
   ]
  },
  {
   "cell_type": "code",
   "execution_count": null,
   "id": "b9640347-759f-46bf-91cf-8905a22ae916",
   "metadata": {
    "tags": []
   },
   "outputs": [],
   "source": [
    "embarked_le = preprocessing.LabelEncoder()\n",
    "tr_data['Embarked_encoded']=embarked_le.fit_transform(tr_data['Embarked'])\n",
    "tr_data.head()"
   ]
  },
  {
   "cell_type": "code",
   "execution_count": null,
   "id": "39189293-3ba5-45f5-a8c4-919942b98c6b",
   "metadata": {},
   "outputs": [],
   "source": [
    "\n",
    "dt = tree.DecisionTreeClassifier()\n",
    "\n",
    "features = ['Parch','SibSp', 'Sex_encoded','Embarked_encoded']\n",
    "X_train = tr_data[features]\n",
    "y_train = tr_data['Survived']\n",
    "\n",
    "#learn the patter in the data by invoking fit method\n",
    "dt.fit(X_train,y_train)"
   ]
  },
  {
   "cell_type": "code",
   "execution_count": null,
   "id": "db569c8a-b7fc-47a5-9ffb-b6c0e7624fdc",
   "metadata": {},
   "outputs": [],
   "source": [
    "## see the learned data.\n",
    "%matplotlib qt\n",
    "tree.plot_tree(dt,feature_names=features,filled=True,fontsize=7)"
   ]
  },
  {
   "cell_type": "code",
   "execution_count": null,
   "id": "1942d866-d0ac-415f-83e2-f7a4e9f91a15",
   "metadata": {},
   "outputs": [],
   "source": [
    "test_data = pd.read_csv(r'./titanic/test.csv')\n",
    "X_test = test_data[features]\n",
    "\n",
    "\n",
    "### predict the output for the test data\n",
    "test_data['Survived']=dt.predict(X_test)\n",
    "test_data.head()"
   ]
  },
  {
   "cell_type": "code",
   "execution_count": null,
   "id": "451bbab7-3555-41ae-9657-57b7fbeed4c0",
   "metadata": {},
   "outputs": [],
   "source": []
  }
 ],
 "metadata": {
  "kernelspec": {
   "display_name": "Python 3 (ipykernel)",
   "language": "python",
   "name": "python3"
  },
  "language_info": {
   "codemirror_mode": {
    "name": "ipython",
    "version": 3
   },
   "file_extension": ".py",
   "mimetype": "text/x-python",
   "name": "python",
   "nbconvert_exporter": "python",
   "pygments_lexer": "ipython3",
   "version": "3.9.19"
  }
 },
 "nbformat": 4,
 "nbformat_minor": 5
}
