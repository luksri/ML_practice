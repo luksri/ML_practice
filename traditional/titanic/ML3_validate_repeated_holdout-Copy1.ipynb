{
 "cells": [
  {
   "cell_type": "code",
   "execution_count": null,
   "id": "949f5f6c-8715-461b-b509-9c65ad3b1c49",
   "metadata": {},
   "outputs": [],
   "source": [
    "import pandas as pd\n",
    "from sklearn import tree\n",
    "from sklearn import preprocessing\n",
    "import numpy as np\n",
    "from sklearn import model_selection\n",
    "import os"
   ]
  },
  {
   "cell_type": "code",
   "execution_count": null,
   "id": "e3ddfcbd-fc1e-4da2-8735-41068b1fb3e8",
   "metadata": {},
   "outputs": [],
   "source": [
    "dir = \"./titanic\"\n",
    "tr_data = pd.read_csv(r'./titanic/train.csv')\n",
    "tr_data.head()"
   ]
  },
  {
   "cell_type": "code",
   "execution_count": null,
   "id": "298bf56e-bfed-43a5-b842-67cc4aa7db49",
   "metadata": {},
   "outputs": [],
   "source": [
    "### clean the data now. to do this, we need to convert the data to canonical form so that we can decision trees(requirement by the algo)\n",
    "sex_le = preprocessing.LabelEncoder()\n",
    "# sex_le.fit(tr_data['Sex'])\n",
    "# sex_le.classes_\n",
    "tr_data['Sex_encoded']=sex_le.fit_transform(tr_data['Sex'])\n",
    "tr_data.head()"
   ]
  },
  {
   "cell_type": "code",
   "execution_count": null,
   "id": "b9640347-759f-46bf-91cf-8905a22ae916",
   "metadata": {
    "tags": []
   },
   "outputs": [],
   "source": [
    "embarked_le = preprocessing.LabelEncoder()\n",
    "tr_data['Embarked_encoded']=embarked_le.fit_transform(tr_data['Embarked'])\n",
    "tr_data.head()"
   ]
  },
  {
   "cell_type": "code",
   "execution_count": null,
   "id": "39189293-3ba5-45f5-a8c4-919942b98c6b",
   "metadata": {},
   "outputs": [],
   "source": [
    "#### data is preprocessed till now. now time for model creation\n",
    "\n",
    "\n",
    "dt = tree.DecisionTreeClassifier()\n",
    "features = ['Parch','SibSp', 'Sex_encoded','Embarked_encoded']\n",
    "X_train = tr_data[features]\n",
    "y_train = tr_data['Survived']\n",
    "\n",
    "#learn the patter in the data by invoking fit method\n",
    "dt.fit(X_train,y_train)"
   ]
  },
  {
   "cell_type": "code",
   "execution_count": null,
   "id": "db569c8a-b7fc-47a5-9ffb-b6c0e7624fdc",
   "metadata": {},
   "outputs": [],
   "source": [
    "## see the learned data.\n",
    "\n",
    "# %matplotlib qt\n",
    "# tree.plot_tree(dt,feature_names=features,filled=True,fontsize=7)"
   ]
  },
  {
   "cell_type": "code",
   "execution_count": null,
   "id": "451bbab7-3555-41ae-9657-57b7fbeed4c0",
   "metadata": {},
   "outputs": [],
   "source": [
    "## we have the model ready with the selected features. now this model has to be validated. \n",
    "#for this we need to use model_selection package."
   ]
  },
  {
   "cell_type": "code",
   "execution_count": null,
   "id": "e853aa99-10ff-4442-a5b6-24f4c5fe0606",
   "metadata": {
    "tags": []
   },
   "outputs": [],
   "source": [
    "ss = model_selection.ShuffleSplit(10,train_size=0.7)\n",
    "splits = ss.split(X_train)"
   ]
  },
  {
   "cell_type": "code",
   "execution_count": null,
   "id": "674d299e-1726-4c4b-8221-3a96f152b6c2",
   "metadata": {
    "tags": []
   },
   "outputs": [],
   "source": [
    "# now these splits must be applited on the model and cross validated\n",
    "\n",
    "scores = model_selection.cross_val_score(dt, X_train, y_train, scoring='accuracy', cv=ss)\n",
    "print(scores)"
   ]
  },
  {
   "cell_type": "code",
   "execution_count": null,
   "id": "c3dee479-7c57-402d-9e70-c70c598005de",
   "metadata": {
    "tags": []
   },
   "outputs": [],
   "source": [
    "### the model has been validated and it is giving an accuracy of 75% on 10rep of train data."
   ]
  },
  {
   "cell_type": "code",
   "execution_count": null,
   "id": "43e7f135-2248-4c9d-9343-0ae80dca3804",
   "metadata": {
    "tags": []
   },
   "outputs": [],
   "source": [
    "#### now test the model with test data. since we label encoded the \n",
    "# test data. but we should not do fit on test data.\n",
    "\n",
    "test_data = pd.read_csv(r'./titanic/test.csv')\n",
    "test_data['Sex_encoded']=sex_le.fit_transform(test_data['Sex'])\n",
    "test_data['Embarked_encoded']=embarked_le.fit_transform(test_data['Embarked'])\n"
   ]
  },
  {
   "cell_type": "code",
   "execution_count": null,
   "id": "a89b492f-769b-48e2-b3fa-eee13209f290",
   "metadata": {
    "tags": []
   },
   "outputs": [],
   "source": [
    "\n",
    "X_test = test_data[features]\n",
    "\n",
    "\n",
    "### predict the output for the test data\n",
    "test_data['Survived']=dt.predict(X_test)\n",
    "test_data.head()"
   ]
  },
  {
   "cell_type": "code",
   "execution_count": null,
   "id": "6b6ef2d3-25eb-4ac4-b7f8-4e730a19be29",
   "metadata": {
    "tags": []
   },
   "outputs": [],
   "source": [
    "test_data.to_csv(os.path.join(dir, \"submission1.csv\"), columns=[\"PassengerId\", \"Survived\"], index=False)"
   ]
  },
  {
   "cell_type": "code",
   "execution_count": null,
   "id": "18298c44-cefe-40b9-a1a8-baea87fa02ca",
   "metadata": {},
   "outputs": [],
   "source": []
  }
 ],
 "metadata": {
  "kernelspec": {
   "display_name": "Python 3 (ipykernel)",
   "language": "python",
   "name": "python3"
  },
  "language_info": {
   "codemirror_mode": {
    "name": "ipython",
    "version": 3
   },
   "file_extension": ".py",
   "mimetype": "text/x-python",
   "name": "python",
   "nbconvert_exporter": "python",
   "pygments_lexer": "ipython3",
   "version": "3.9.19"
  }
 },
 "nbformat": 4,
 "nbformat_minor": 5
}
