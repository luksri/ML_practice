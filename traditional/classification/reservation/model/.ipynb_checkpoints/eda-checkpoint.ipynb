{
 "cells": [
  {
   "cell_type": "code",
   "execution_count": null,
   "id": "1e44d242-7f72-488c-a4bf-e982de533227",
   "metadata": {
    "tags": []
   },
   "outputs": [],
   "source": [
    "import pandas as pd\n",
    "import os\n",
    "import math\n",
    "import seaborn as sns\n",
    "import matplotlib.pyplot as plt\n",
    "import warnings\n",
    "from sklearn import preprocessing\n",
    "from scipy import stats\n",
    "import numpy as np\n",
    "from scipy.stats import skew, boxcox"
   ]
  },
  {
   "cell_type": "code",
   "execution_count": null,
   "id": "f8fc1c75-29fa-4b4c-a10e-4ee57f8a6288",
   "metadata": {
    "tags": []
   },
   "outputs": [],
   "source": [
    "warnings.filterwarnings('ignore')\n",
    "dir = \"../data\""
   ]
  },
  {
   "cell_type": "code",
   "execution_count": null,
   "id": "41fdcf68-4c1d-4f25-8403-a0cf14f24337",
   "metadata": {
    "tags": []
   },
   "outputs": [],
   "source": [
    "train_data = pd.read_csv(os.path.join(dir, \"train.csv\"))\n",
    "train_data.shape\n",
    "train_data.info()"
   ]
  },
  {
   "cell_type": "code",
   "execution_count": null,
   "id": "51afb8fc-016f-48e8-a74e-79b8ea6f0e4d",
   "metadata": {
    "tags": []
   },
   "outputs": [],
   "source": [
    "def cont_selector(df):\n",
    "    return df.select_dtypes(include=['number']).columns\n",
    "\n",
    "def cat_selector(df):\n",
    "    return df.select_dtypes(exclude=['number']).columns\n",
    "\n",
    "def cast_to_cat(df, features):\n",
    "    for feature in features:\n",
    "        df[feature] = df[feature].astype('category')"
   ]
  },
  {
   "cell_type": "code",
   "execution_count": null,
   "id": "afe1c874-5dc4-4f7d-8d60-5d970ff5c79d",
   "metadata": {
    "tags": []
   },
   "outputs": [],
   "source": [
    "features_to_cast = [\"no_of_adults\", \"no_of_children\", \"no_of_week_nights\",\"no_of_weekend_nights\",\n",
    "                   \"type_of_meal_plan\", \"required_car_parking_space\",\"room_type_reserved\",\n",
    "                   \"market_segment_type\",\"repeated_guest\",\"no_of_special_requests\", \"arrival_month\",\n",
    "                   \"arrival_date\",\"booking_status\", \"arrival_year\"]\n",
    "features_to_cast.extend(cat_selector(train_data))\n",
    "cast_to_cat(train_data, features_to_cast)\n",
    "print(cont_selector(train_data))\n",
    "print(cat_selector(train_data))"
   ]
  },
  {
   "cell_type": "code",
   "execution_count": null,
   "id": "3d321331-b61f-4c35-aa0b-90b32d5bfbf4",
   "metadata": {
    "tags": []
   },
   "outputs": [],
   "source": [
    "print(cont_selector(train_data))\n",
    "print(cat_selector(train_data))"
   ]
  },
  {
   "cell_type": "code",
   "execution_count": null,
   "id": "da42d4b9-b144-46f0-adb3-f01692dff11c",
   "metadata": {
    "tags": []
   },
   "outputs": [],
   "source": [
    "def plot_missing_data(df):\n",
    "    counts = df.isnull().sum()\n",
    "    per = counts/float(df.shape[0])\n",
    "    df_missing = pd.DataFrame({'feature':counts.index, 'MissingValuePercent':per})\n",
    "    df_missing.sort_values(by=['MissingValuePercent'], ascending=True, inplace=True)\n",
    "    df_missing.set_index('feature', inplace=True)\n",
    "    df_missing.plot(kind='barh', figsize=(25, 25))"
   ]
  },
  {
   "cell_type": "code",
   "execution_count": null,
   "id": "41314396-f0a6-4800-8464-e15e9d94a0a1",
   "metadata": {
    "tags": []
   },
   "outputs": [],
   "source": [
    "plot_missing_data(train_data)"
   ]
  },
  {
   "cell_type": "code",
   "execution_count": null,
   "id": "076b3a42-e263-4f87-802a-1a959cbfa929",
   "metadata": {
    "tags": []
   },
   "outputs": [],
   "source": [
    "#Explore categorical features\n",
    "cat_features = cat_selector(train_data)\n",
    "print(cat_features)\n",
    "for feature in cat_features:\n",
    "    sns.countplot(x=feature,data=train_data)\n",
    "    plt.xlabel(feature)\n",
    "    plt.ylabel('Count')\n",
    "    plt.show()"
   ]
  },
  {
   "cell_type": "code",
   "execution_count": null,
   "id": "b1ad7f5d-cf5d-4d8f-b65c-dc575f8e7864",
   "metadata": {
    "tags": []
   },
   "outputs": [],
   "source": [
    "cont_dist_features = [ feature for feature in cont_selector(train_data)]\n",
    "for feature in cont_dist_features:\n",
    "    sns.histplot(train_data[feature], kde=True)\n",
    "    plt.xlabel(feature)\n",
    "    plt.ylabel('Freq')\n",
    "    plt.show()"
   ]
  },
  {
   "cell_type": "code",
   "execution_count": null,
   "id": "cf8f92e2-a441-41ad-a461-395fa39dd38a",
   "metadata": {},
   "outputs": [],
   "source": []
  }
 ],
 "metadata": {
  "kernelspec": {
   "display_name": "Python 3 (ipykernel)",
   "language": "python",
   "name": "python3"
  },
  "language_info": {
   "codemirror_mode": {
    "name": "ipython",
    "version": 3
   },
   "file_extension": ".py",
   "mimetype": "text/x-python",
   "name": "python",
   "nbconvert_exporter": "python",
   "pygments_lexer": "ipython3",
   "version": "3.9.19"
  }
 },
 "nbformat": 4,
 "nbformat_minor": 5
}
