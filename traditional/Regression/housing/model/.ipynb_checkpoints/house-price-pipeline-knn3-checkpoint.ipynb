{
 "cells": [
  {
   "cell_type": "code",
   "execution_count": 1,
   "id": "19d6f3c2-711d-4530-bfd8-3d2d3ed7989a",
   "metadata": {
    "tags": []
   },
   "outputs": [
    {
     "name": "stdout",
     "output_type": "stream",
     "text": [
      "Intel MKL WARNING: Support of Intel(R) Streaming SIMD Extensions 4.2 (Intel(R) SSE4.2) enabled only processors has been deprecated. Intel oneAPI Math Kernel Library 2025.0 will require Intel(R) Advanced Vector Extensions (Intel(R) AVX) instructions.\n",
      "Intel MKL WARNING: Support of Intel(R) Streaming SIMD Extensions 4.2 (Intel(R) SSE4.2) enabled only processors has been deprecated. Intel oneAPI Math Kernel Library 2025.0 will require Intel(R) Advanced Vector Extensions (Intel(R) AVX) instructions.\n"
     ]
    }
   ],
   "source": [
    "import pandas as pd\n",
    "import os\n",
    "import sklearn\n",
    "import math\n",
    "import joblib\n",
    "from sklearn import ensemble \n",
    "from sklearn import preprocessing\n",
    "from sklearn import model_selection\n",
    "from sklearn import impute\n",
    "from sklearn import pipeline\n",
    "from sklearn import compose\n",
    "from sklearn import feature_selection\n",
    "from sklearn import neighbors\n",
    "from sklearn import linear_model\n",
    "from sklearn import svm\n",
    "from sklearn import ensemble\n",
    "from sklearn import metrics\n",
    "from feature_engine.selection import DropDuplicateFeatures, DropCorrelatedFeatures\n",
    "import numpy as np\n",
    "import xgboost as xgb\n",
    "import seaborn as sns\n",
    "import matplotlib.pyplot as plt\n",
    "import warnings\n",
    "from shutil import rmtree\n",
    "from sklearn.compose import make_column_selector"
   ]
  },
  {
   "cell_type": "code",
   "execution_count": null,
   "id": "03ae2dee-c25e-424e-90be-654fb87ee38c",
   "metadata": {
    "tags": []
   },
   "outputs": [],
   "source": [
    "warnings.filterwarnings('ignore')\n",
    "sklearn.set_config(display=\"diagram\")\n",
    "dir = \"../data\"\n",
    "cachedir = os.path.join(dir, \"pipeline_cache\")"
   ]
  },
  {
   "cell_type": "code",
   "execution_count": null,
   "id": "d8114b40-856f-46ba-a9da-c33e295dfb5a",
   "metadata": {
    "tags": []
   },
   "outputs": [],
   "source": [
    "house_train = pd.read_csv(os.path.join(dir, \"train.csv\"))\n",
    "house_train.shape\n",
    "house_train.info()"
   ]
  },
  {
   "cell_type": "code",
   "execution_count": null,
   "id": "15f61c4a-744f-43ca-b6d5-c7aa340bbd60",
   "metadata": {
    "tags": []
   },
   "outputs": [],
   "source": [
    "#Create new features\n",
    "house_train['TotalSF'] = house_train['TotalBsmtSF'] + house_train['GrLivArea'] + house_train['1stFlrSF'] + house_train['2ndFlrSF']\n",
    "house_train['TotalBathRooms'] = house_train['FullBath'] + house_train['BsmtFullBath'] + 0.5 * house_train['HalfBath'] +  0.5 * house_train['BsmtHalfBath']\n",
    "house_train['TotalPorchSF'] = house_train['OpenPorchSF'] + house_train['3SsnPorch'] + house_train['EnclosedPorch'] + house_train['ScreenPorch']"
   ]
  },
  {
   "cell_type": "code",
   "execution_count": null,
   "id": "6e6d2637-8395-4065-85b2-97a58d188af1",
   "metadata": {
    "tags": []
   },
   "outputs": [],
   "source": [
    "def cont_selector(df):\n",
    "    return df.select_dtypes(include=['number']).columns\n",
    "\n",
    "def cat_selector(df):\n",
    "    return df.select_dtypes(exclude=['number']).columns\n",
    "\n",
    "def cast_to_cat(df, features):\n",
    "    for feature in features:\n",
    "        df[feature] = df[feature].astype('category')"
   ]
  },
  {
   "cell_type": "code",
   "execution_count": null,
   "id": "b10e3b24-3e90-45ae-9360-682bffe7cd14",
   "metadata": {
    "tags": []
   },
   "outputs": [],
   "source": [
    "print(cont_selector(house_train))\n",
    "print(cat_selector(house_train))"
   ]
  },
  {
   "cell_type": "code",
   "execution_count": null,
   "id": "a829e0f6-47d4-45d2-ad23-0ac8166e303d",
   "metadata": {
    "tags": []
   },
   "outputs": [],
   "source": [
    "features_to_cast = [\"MSSubClass\"]\n",
    "features_to_cast.extend(cat_selector(house_train))\n",
    "cast_to_cat(house_train, features_to_cast)\n",
    "print(cont_selector(house_train))\n",
    "print(cat_selector(house_train))"
   ]
  },
  {
   "cell_type": "code",
   "execution_count": null,
   "id": "16c3a65a-9eaf-4828-8d93-543d9fa1c220",
   "metadata": {
    "tags": []
   },
   "outputs": [],
   "source": [
    "def get_features_to_drop_on_missingdata(df, threshold) :\n",
    "    tmp = df.isnull().sum()\n",
    "    return list(tmp[tmp/float(df.shape[0]) > threshold].index)\n",
    "\n",
    "def drop_features(df, features):\n",
    "    return df.drop(features, axis=1, inplace=True)"
   ]
  },
  {
   "cell_type": "code",
   "execution_count": null,
   "id": "052243bc-8c55-4a8e-81f0-92922a0eebfa",
   "metadata": {
    "tags": []
   },
   "outputs": [],
   "source": [
    "missing_data_features_to_drop = get_features_to_drop_on_missingdata(house_train, 0.25)\n",
    "print(missing_data_features_to_drop)\n",
    "drop_features(house_train, missing_data_features_to_drop)\n",
    "house_train.info()"
   ]
  },
  {
   "cell_type": "code",
   "execution_count": null,
   "id": "2c74f28a-c0f6-402b-b821-b4705adee3c4",
   "metadata": {
    "tags": []
   },
   "outputs": [],
   "source": [
    "target = house_train['SalePrice']\n",
    "features_to_drop = ['Id', 'SalePrice']\n",
    "drop_features(house_train, features_to_drop)\n",
    "house_train.info()"
   ]
  },
  {
   "cell_type": "code",
   "execution_count": null,
   "id": "1b61c321-4b7d-45f4-9613-69e360c069d4",
   "metadata": {
    "tags": []
   },
   "outputs": [],
   "source": [
    "#define train, target data and metric\n",
    "X_train = house_train\n",
    "y_train = target\n",
    "scoring = metrics.make_scorer(metrics.root_mean_squared_log_error, greater_is_better=False)"
   ]
  },
  {
   "cell_type": "code",
   "execution_count": null,
   "id": "081de517-77f0-4547-b546-e78f5dc3a6b1",
   "metadata": {
    "tags": []
   },
   "outputs": [],
   "source": [
    "# preprocessing pipeline for linear estimator\n",
    "steps = [('imp', impute.SimpleImputer(strategy=\"most_frequent\")), ('ohe', preprocessing.OneHotEncoder(sparse_output=False,  handle_unknown='ignore'))]\n",
    "cat_linear_preprocessor = pipeline.Pipeline(steps)\n",
    "\n",
    "steps = [('imp', impute.SimpleImputer()), ('scaler', preprocessing.RobustScaler())]\n",
    "cont_linear_preprocessor = pipeline.Pipeline(steps)\n",
    "\n",
    "linear_preprocessor = compose.ColumnTransformer(\n",
    "    [ (\"categorical\", cat_linear_preprocessor, cat_selector(house_train)), (\"continuous\", cont_linear_preprocessor, cont_selector(house_train)) ]\n",
    ")"
   ]
  },
  {
   "cell_type": "code",
   "execution_count": null,
   "id": "64c9c77e-0296-4b1b-86c7-b9ae47badb18",
   "metadata": {
    "tags": []
   },
   "outputs": [],
   "source": [
    "#knn pipeline\n",
    "knn_pipeline = pipeline.Pipeline([  \n",
    "                    ('preprocess', linear_preprocessor),\n",
    "                    ('zv_filter', feature_selection.VarianceThreshold()),\n",
    "                    ('knn', neighbors.KNeighborsRegressor())\n",
    "                ], memory=cachedir)"
   ]
  },
  {
   "cell_type": "code",
   "execution_count": null,
   "id": "9274f1fe-5762-4689-a070-a1257301a9f5",
   "metadata": {
    "tags": []
   },
   "outputs": [],
   "source": [
    "knn_pipeline_params = {\n",
    "                'knn__n_neighbors':[3, 5, 7, 9, 11, 13, 15],\n",
    "                'knn__weights': ['uniform', 'distance']\n",
    "            }\n",
    "cv = model_selection.KFold(10)\n",
    "knn_pipeline_grid = model_selection.GridSearchCV(knn_pipeline, knn_pipeline_params, cv=cv, scoring=scoring, n_jobs=4)\n",
    "knn_pipeline_grid.fit(X_train, y_train)\n",
    "print(knn_pipeline_grid.best_params_)\n",
    "print(knn_pipeline_grid.best_score_)\n",
    "print(knn_pipeline_grid.best_estimator_)"
   ]
  },
  {
   "cell_type": "code",
   "execution_count": null,
   "id": "dcdd348b-6045-4e8d-9c70-c7dd1e589e3f",
   "metadata": {
    "tags": []
   },
   "outputs": [],
   "source": [
    "f = knn_pipeline_grid.best_estimator_[0].get_feature_names_out()\n",
    "print(len(f), f)\n",
    "f = knn_pipeline_grid.best_estimator_[1].get_feature_names_out(input_features = f)\n",
    "print(len(f), f)"
   ]
  },
  {
   "cell_type": "code",
   "execution_count": null,
   "id": "a71bf102-bfed-4249-be3e-4a54f984af06",
   "metadata": {
    "tags": []
   },
   "outputs": [],
   "source": [
    "joblib.dump(knn_pipeline_grid.best_estimator_, os.path.join(dir, \"houseprice_knn.pkl\"))"
   ]
  },
  {
   "cell_type": "code",
   "execution_count": null,
   "id": "8b38fca5-15ec-4cf9-a5f3-8af6146949d3",
   "metadata": {
    "tags": []
   },
   "outputs": [],
   "source": [
    "house_test = pd.read_csv(os.path.join(dir, \"test.csv\"))\n",
    "print(house_test.shape)\n",
    "house_test.head()"
   ]
  },
  {
   "cell_type": "code",
   "execution_count": null,
   "id": "b9f5a6ce-b988-40f3-8196-a6f9cb344b28",
   "metadata": {
    "tags": []
   },
   "outputs": [],
   "source": [
    "#Create new features\n",
    "house_test['TotalSF'] = house_test['TotalBsmtSF'] + house_test['GrLivArea'] + house_test['1stFlrSF'] + house_train['2ndFlrSF']\n",
    "house_test['TotalBathRooms'] = house_test['FullBath'] + house_test['BsmtFullBath'] + 0.5 * house_test['HalfBath'] +  0.5 * house_test['BsmtHalfBath']\n",
    "house_test['TotalPorchSF'] = house_test['OpenPorchSF'] + house_test['3SsnPorch'] + house_test['EnclosedPorch'] + house_test['ScreenPorch']"
   ]
  },
  {
   "cell_type": "code",
   "execution_count": null,
   "id": "8f55fc27-7063-405b-87d1-7036b156a4e4",
   "metadata": {
    "tags": []
   },
   "outputs": [],
   "source": [
    "cast_to_cat(house_test, features_to_cast)"
   ]
  },
  {
   "cell_type": "code",
   "execution_count": null,
   "id": "38fb3e14-f8b2-40bc-93c0-40c5b35b6653",
   "metadata": {
    "tags": []
   },
   "outputs": [],
   "source": [
    "house_test.info()"
   ]
  },
  {
   "cell_type": "code",
   "execution_count": null,
   "id": "cd808bbd-cdb8-45bf-b019-3627864f00fd",
   "metadata": {
    "tags": []
   },
   "outputs": [],
   "source": [
    "drop_features(house_test, missing_data_features_to_drop)"
   ]
  },
  {
   "cell_type": "code",
   "execution_count": null,
   "id": "a12a469c-499d-45b5-837c-cee129dff4ac",
   "metadata": {
    "tags": []
   },
   "outputs": [],
   "source": [
    "house_test['SalePrice'] = np.round(knn_pipeline_grid.best_estimator_.predict(house_test), 2)\n",
    "house_test.head()"
   ]
  },
  {
   "cell_type": "code",
   "execution_count": null,
   "id": "292db642-8a1e-4874-a577-9d1d1698cf87",
   "metadata": {
    "tags": []
   },
   "outputs": [],
   "source": [
    "house_test.to_csv(os.path.join(dir, \"house_prices_submit.csv\"), columns=[\"Id\", \"SalePrice\"], index=False)"
   ]
  },
  {
   "cell_type": "code",
   "execution_count": null,
   "id": "00c7ee36-283c-4cbb-b29b-74783fa66305",
   "metadata": {
    "tags": []
   },
   "outputs": [],
   "source": [
    "rmtree(cachedir)"
   ]
  },
  {
   "cell_type": "code",
   "execution_count": null,
   "id": "bc9e66f1-b383-481a-bb42-75b083773d2d",
   "metadata": {},
   "outputs": [],
   "source": []
  }
 ],
 "metadata": {
  "kernelspec": {
   "display_name": "Python 3 (ipykernel)",
   "language": "python",
   "name": "python3"
  },
  "language_info": {
   "codemirror_mode": {
    "name": "ipython",
    "version": 3
   },
   "file_extension": ".py",
   "mimetype": "text/x-python",
   "name": "python",
   "nbconvert_exporter": "python",
   "pygments_lexer": "ipython3",
   "version": "3.9.19"
  }
 },
 "nbformat": 4,
 "nbformat_minor": 5
}
