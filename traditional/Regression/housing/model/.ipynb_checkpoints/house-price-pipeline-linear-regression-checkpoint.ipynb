{
 "cells": [
  {
   "cell_type": "code",
   "execution_count": null,
   "id": "19d6f3c2-711d-4530-bfd8-3d2d3ed7989a",
   "metadata": {},
   "outputs": [],
   "source": [
    "import pandas as pd\n",
    "import os\n",
    "import sklearn\n",
    "import math\n",
    "import joblib\n",
    "from sklearn import ensemble \n",
    "from sklearn import preprocessing\n",
    "from sklearn import model_selection\n",
    "from sklearn import impute\n",
    "from sklearn import pipeline\n",
    "from sklearn import compose\n",
    "from sklearn import feature_selection\n",
    "from sklearn import neighbors\n",
    "from sklearn import linear_model\n",
    "from sklearn import svm\n",
    "from sklearn import ensemble\n",
    "from sklearn import metrics\n",
    "from sklearn.compose import TransformedTargetRegressor\n",
    "from feature_engine.selection import DropDuplicateFeatures, DropCorrelatedFeatures\n",
    "import numpy as np\n",
    "import xgboost as xgb\n",
    "import seaborn as sns\n",
    "import matplotlib.pyplot as plt\n",
    "import warnings\n",
    "from shutil import rmtree"
   ]
  },
  {
   "cell_type": "code",
   "execution_count": null,
   "id": "03ae2dee-c25e-424e-90be-654fb87ee38c",
   "metadata": {},
   "outputs": [],
   "source": [
    "warnings.filterwarnings('ignore')\n",
    "sklearn.set_config(display=\"diagram\")\n",
    "dir = \"../data\"\n",
    "cachedir = os.path.join(dir, \"pipeline_cache\")"
   ]
  },
  {
   "cell_type": "code",
   "execution_count": null,
   "id": "d8114b40-856f-46ba-a9da-c33e295dfb5a",
   "metadata": {},
   "outputs": [],
   "source": [
    "house_train = pd.read_csv(os.path.join(dir, \"train.csv\"))\n",
    "house_train.shape\n",
    "house_train.info()"
   ]
  },
  {
   "cell_type": "code",
   "execution_count": null,
   "id": "15f61c4a-744f-43ca-b6d5-c7aa340bbd60",
   "metadata": {},
   "outputs": [],
   "source": [
    "#Create new features\n",
    "house_train['TotalSF'] = house_train['TotalBsmtSF'] + house_train['GrLivArea'] + house_train['1stFlrSF'] + house_train['2ndFlrSF']\n",
    "house_train['TotalBathRooms'] = house_train['FullBath'] + house_train['BsmtFullBath'] + 0.5 * house_train['HalfBath'] +  0.5 * house_train['BsmtHalfBath']\n",
    "house_train['TotalPorchSF'] = house_train['OpenPorchSF'] + house_train['3SsnPorch'] + house_train['EnclosedPorch'] + house_train['ScreenPorch']"
   ]
  },
  {
   "cell_type": "code",
   "execution_count": null,
   "id": "6e6d2637-8395-4065-85b2-97a58d188af1",
   "metadata": {},
   "outputs": [],
   "source": [
    "def cont_selector(df):\n",
    "    return df.select_dtypes(include=['number']).columns\n",
    "\n",
    "def cat_selector(df):\n",
    "    return df.select_dtypes(exclude=['number']).columns\n",
    "\n",
    "def cast_to_cat(df, features):\n",
    "    for feature in features:\n",
    "        df[feature] = df[feature].astype('category')"
   ]
  },
  {
   "cell_type": "code",
   "execution_count": null,
   "id": "b10e3b24-3e90-45ae-9360-682bffe7cd14",
   "metadata": {},
   "outputs": [],
   "source": [
    "print(cont_selector(house_train))\n",
    "print(cat_selector(house_train))"
   ]
  },
  {
   "cell_type": "code",
   "execution_count": null,
   "id": "a829e0f6-47d4-45d2-ad23-0ac8166e303d",
   "metadata": {},
   "outputs": [],
   "source": [
    "features_to_cast = [\"MSSubClass\"]\n",
    "features_to_cast.extend(cat_selector(house_train))\n",
    "cast_to_cat(house_train, features_to_cast)\n",
    "print(cont_selector(house_train))\n",
    "print(cat_selector(house_train))"
   ]
  },
  {
   "cell_type": "code",
   "execution_count": null,
   "id": "16c3a65a-9eaf-4828-8d93-543d9fa1c220",
   "metadata": {},
   "outputs": [],
   "source": [
    "def get_features_to_drop_on_missingdata(df, threshold) :\n",
    "    tmp = df.isnull().sum()\n",
    "    return list(tmp[tmp/float(df.shape[0]) > threshold].index)\n",
    "\n",
    "def drop_features(df, features):\n",
    "    return df.drop(features, axis=1, inplace=True)"
   ]
  },
  {
   "cell_type": "code",
   "execution_count": null,
   "id": "052243bc-8c55-4a8e-81f0-92922a0eebfa",
   "metadata": {},
   "outputs": [],
   "source": [
    "missing_data_features_to_drop = get_features_to_drop_on_missingdata(house_train, 0.25)\n",
    "print(missing_data_features_to_drop)\n",
    "drop_features(house_train, missing_data_features_to_drop)\n",
    "house_train.info()"
   ]
  },
  {
   "cell_type": "code",
   "execution_count": null,
   "id": "2c74f28a-c0f6-402b-b821-b4705adee3c4",
   "metadata": {},
   "outputs": [],
   "source": [
    "target = house_train['SalePrice']\n",
    "features_to_drop = ['Id', 'SalePrice']\n",
    "drop_features(house_train, features_to_drop)\n",
    "house_train.info()"
   ]
  },
  {
   "cell_type": "code",
   "execution_count": null,
   "id": "1b61c321-4b7d-45f4-9613-69e360c069d4",
   "metadata": {},
   "outputs": [],
   "source": [
    "#define train, target data and metric\n",
    "X_train = house_train\n",
    "y_train = target\n",
    "scoring = metrics.make_scorer(metrics.root_mean_squared_log_error, greater_is_better=False)"
   ]
  },
  {
   "cell_type": "code",
   "execution_count": null,
   "id": "081de517-77f0-4547-b546-e78f5dc3a6b1",
   "metadata": {},
   "outputs": [],
   "source": [
    "# preprocessing pipeline for linear estimator\n",
    "steps = [('imp', impute.SimpleImputer(strategy=\"most_frequent\")), ('ohe', preprocessing.OneHotEncoder(sparse_output=False,  handle_unknown='ignore'))]\n",
    "cat_linear_preprocessor = pipeline.Pipeline(steps)\n",
    "\n",
    "steps = [('imp', impute.SimpleImputer()), ('scaler', preprocessing.StandardScaler())]\n",
    "cont_linear_preprocessor = pipeline.Pipeline(steps)\n",
    "\n",
    "linear_preprocessor = compose.ColumnTransformer(\n",
    "    [ (\"categorical\", cat_linear_preprocessor, cat_selector(house_train)), (\"continuous\", cont_linear_preprocessor, cont_selector(house_train)) ]\n",
    ")"
   ]
  },
  {
   "cell_type": "code",
   "execution_count": null,
   "id": "64c9c77e-0296-4b1b-86c7-b9ae47badb18",
   "metadata": {},
   "outputs": [],
   "source": [
    "#lasso pipeline-I\n",
    "lasso_pipeline1 = pipeline.Pipeline([  \n",
    "                    ('linear_preprocessor', linear_preprocessor),\n",
    "                    ('zv_filter', feature_selection.VarianceThreshold()),\n",
    "                    ('lasso', linear_model.Lasso())\n",
    "                ], memory=cachedir)\n",
    "lasso_pipeline1"
   ]
  },
  {
   "cell_type": "code",
   "execution_count": null,
   "id": "9274f1fe-5762-4689-a070-a1257301a9f5",
   "metadata": {},
   "outputs": [],
   "source": [
    "#grid search of lasso pipeline-I\n",
    "lasso_pipeline_params = {\n",
    "                'lasso__alpha':[0, 0.0001, 0.0005, 0.0007, 0.0008, 0.0009, 0.001, 0.005, 0.05, 0.5, 0.75, 1, 2, 5, 10, 20]\n",
    "            }\n",
    "cv = model_selection.KFold(10)\n",
    "lasso_pipeline_grid1 = model_selection.GridSearchCV(lasso_pipeline1, lasso_pipeline_params, cv=cv, scoring=scoring, n_jobs=4)\n",
    "lasso_pipeline_grid1.fit(X_train, y_train)\n",
    "print(lasso_pipeline_grid1.best_params_)\n",
    "print(lasso_pipeline_grid1.best_score_)\n",
    "print(lasso_pipeline_grid1.best_estimator_)"
   ]
  },
  {
   "cell_type": "code",
   "execution_count": null,
   "id": "ab63ee36-80f7-460a-bbac-2772dfc227fd",
   "metadata": {},
   "outputs": [],
   "source": [
    "#lasso pipeline-II\n",
    "target_transformer = preprocessing.PowerTransformer(method='box-cox')\n",
    "\n",
    "lasso_with_trans_target = TransformedTargetRegressor(\n",
    "    regressor = linear_model.Lasso(),\n",
    "    transformer= target_transformer\n",
    ")\n",
    "lasso_pipeline2 = pipeline.Pipeline([  \n",
    "                    ('linear_preprocessor', linear_preprocessor),\n",
    "                    ('zv_filter', feature_selection.VarianceThreshold()),\n",
    "                    ('lasso', lasso_with_trans_target)\n",
    "                ], memory=cachedir)\n",
    "lasso_pipeline2"
   ]
  },
  {
   "cell_type": "code",
   "execution_count": null,
   "id": "44369b2c-a199-4308-88ce-bbd6d88151a5",
   "metadata": {},
   "outputs": [],
   "source": [
    "#grid search of lasso pipeline-II\n",
    "lasso_pipeline_params = {\n",
    "                'lasso__regressor__alpha':[0, 0.0001, 0.0005, 0.0007, 0.0008, 0.0009, 0.001, 0.005, 0.05, 0.5, 0.75, 1, 2, 5, 10, 20]\n",
    "            }\n",
    "cv = model_selection.KFold(10)\n",
    "lasso_pipeline_grid2 = model_selection.GridSearchCV(lasso_pipeline2, lasso_pipeline_params, cv=cv, scoring=scoring, n_jobs=4)\n",
    "lasso_pipeline_grid2.fit(X_train, y_train)\n",
    "print(lasso_pipeline_grid2.best_params_)\n",
    "print(lasso_pipeline_grid2.best_score_)\n",
    "print(lasso_pipeline_grid2.best_estimator_)"
   ]
  },
  {
   "cell_type": "code",
   "execution_count": null,
   "id": "c83e092f-03f8-47f9-94a4-8d2c31cd0d99",
   "metadata": {},
   "outputs": [],
   "source": [
    "# preprocessing pipeline for linear estimator(skew handling)\n",
    "steps = [('imp', impute.SimpleImputer(strategy=\"most_frequent\")), ('ohe', preprocessing.OneHotEncoder(sparse_output=False,  handle_unknown='ignore'))]\n",
    "cat_linear_preprocessor_skew = pipeline.Pipeline(steps)\n",
    "\n",
    "steps = [('imp', impute.SimpleImputer()), ('skew', preprocessing.QuantileTransformer(output_distribution='normal'))]\n",
    "cont_linear_preprocessor_skew = pipeline.Pipeline(steps)\n",
    "\n",
    "linear_preprocessor_skew = compose.ColumnTransformer(\n",
    "    [ (\"categorical\", cat_linear_preprocessor_skew, cat_selector(house_train)), (\"continuous\", cont_linear_preprocessor_skew, cont_selector(house_train)) ]\n",
    ")"
   ]
  },
  {
   "cell_type": "code",
   "execution_count": null,
   "id": "7276c0e2-8181-4a87-8ba8-ecc6fdaecd5d",
   "metadata": {},
   "outputs": [],
   "source": [
    "#lasso pipeline-III\n",
    "lasso_with_trans_target = TransformedTargetRegressor(\n",
    "    regressor = linear_model.Lasso(),\n",
    "    transformer= target_transformer\n",
    ")\n",
    "lasso_pipeline3 = pipeline.Pipeline([  \n",
    "                    ('linear_preprocessor', linear_preprocessor_skew),\n",
    "                    ('zv_filter', feature_selection.VarianceThreshold()),\n",
    "                    ('lasso', lasso_with_trans_target)\n",
    "                ], memory=cachedir)\n",
    "lasso_pipeline3"
   ]
  },
  {
   "cell_type": "code",
   "execution_count": null,
   "id": "4f806bd3-c9ac-457c-aa82-59950cba5c40",
   "metadata": {},
   "outputs": [],
   "source": [
    "#grid search of lasso pipeline-III\n",
    "lasso_pipeline_params = {\n",
    "                'lasso__regressor__alpha':[0, 0.0001, 0.0005, 0.0007, 0.0008, 0.0009, 0.001, 0.005, 0.05, 0.5, 0.75, 1, 2, 5, 10, 20]\n",
    "            }\n",
    "cv = model_selection.KFold(10)\n",
    "lasso_pipeline_grid3 = model_selection.GridSearchCV(lasso_pipeline3, lasso_pipeline_params, cv=cv, scoring=scoring, n_jobs=4)\n",
    "lasso_pipeline_grid3.fit(X_train, y_train)\n",
    "print(lasso_pipeline_grid3.best_params_)\n",
    "print(lasso_pipeline_grid3.best_score_)\n",
    "print(lasso_pipeline_grid3.best_estimator_)"
   ]
  },
  {
   "cell_type": "code",
   "execution_count": null,
   "id": "dcdd348b-6045-4e8d-9c70-c7dd1e589e3f",
   "metadata": {},
   "outputs": [],
   "source": [
    "feature_names = lasso_pipeline_grid2.best_estimator_[0].get_feature_names_out()\n",
    "print(len(feature_names), feature_names)\n",
    "feature_names = lasso_pipeline_grid2.best_estimator_[1].get_feature_names_out(input_features = feature_names)\n",
    "print(len(feature_names), feature_names)"
   ]
  },
  {
   "cell_type": "code",
   "execution_count": null,
   "id": "70ef181a-abd3-42df-aaba-09ddd2b2d5e3",
   "metadata": {},
   "outputs": [],
   "source": [
    "def plot_feature_importances(model, feature_names):\n",
    "    features = pd.DataFrame({'feature': feature_names, 'importance':np.abs(model.coef_)})\n",
    "    features.sort_values(by=['importance'], ascending=True, inplace=True)\n",
    "    features.set_index('feature', inplace=True)\n",
    "    features.plot(kind='barh', figsize=(50, 50))\n",
    "    return features\n",
    "    \n",
    "tmp = plot_feature_importances(lasso_pipeline_grid2.best_estimator_[2].regressor_, feature_names)\n",
    "tmp.tail(50)"
   ]
  },
  {
   "cell_type": "code",
   "execution_count": null,
   "id": "72c41f45-abb8-4196-bc3c-b4575e810d9f",
   "metadata": {},
   "outputs": [],
   "source": [
    "#ridge pipeline\n",
    "ridge_with_trans_target = TransformedTargetRegressor(\n",
    "    regressor = linear_model.Ridge(),\n",
    "    transformer= target_transformer\n",
    ")\n",
    "ridge_pipeline = pipeline.Pipeline([  \n",
    "                    ('linear_preprocessor', linear_preprocessor),\n",
    "                    ('zv_filter', feature_selection.VarianceThreshold()),\n",
    "                    ('ridge', ridge_with_trans_target)\n",
    "                ], memory=cachedir)\n",
    "ridge_pipeline"
   ]
  },
  {
   "cell_type": "code",
   "execution_count": null,
   "id": "ae2e2a9a-6df9-4c51-8da9-1c20024c28d5",
   "metadata": {},
   "outputs": [],
   "source": [
    "#grid search of ridge pipeline\n",
    "ridge_pipeline_params = {\n",
    "                'ridge__regressor__alpha':[0, 0.0001, 0.0005, 0.0007, 0.0008, 0.0009, 0.001, 0.005, 0.05, 0.5, 0.75, 1, 2, 5, 10, 20]\n",
    "            }\n",
    "cv = model_selection.KFold(10)\n",
    "ridge_pipeline_grid = model_selection.GridSearchCV(ridge_pipeline, ridge_pipeline_params, cv=cv, scoring=scoring, n_jobs=4)\n",
    "ridge_pipeline_grid.fit(X_train, y_train)\n",
    "print(ridge_pipeline_grid.best_params_)\n",
    "print(ridge_pipeline_grid.best_score_)\n",
    "print(ridge_pipeline_grid.best_estimator_)"
   ]
  },
  {
   "cell_type": "code",
   "execution_count": null,
   "id": "a940c439-92f4-480a-b2ef-2f7997f478dc",
   "metadata": {},
   "outputs": [],
   "source": [
    "tmp = plot_feature_importances(ridge_pipeline_grid.best_estimator_[2].regressor_, feature_names)\n",
    "tmp.tail(50)"
   ]
  },
  {
   "cell_type": "code",
   "execution_count": null,
   "id": "f4c9c328-be69-4a4c-9c61-db0c1c671536",
   "metadata": {},
   "outputs": [],
   "source": [
    "joblib.dump(lasso_pipeline_grid2.best_estimator_, os.path.join(dir, \"houseprice_lasso.pkl\"))\n",
    "joblib.dump(ridge_pipeline_grid.best_estimator_, os.path.join(dir, \"houseprice_ridge.pkl\"))"
   ]
  },
  {
   "cell_type": "code",
   "execution_count": null,
   "id": "8b38fca5-15ec-4cf9-a5f3-8af6146949d3",
   "metadata": {},
   "outputs": [],
   "source": [
    "house_test = pd.read_csv(os.path.join(dir, \"test.csv\"))\n",
    "print(house_test.shape)\n",
    "house_test.head()"
   ]
  },
  {
   "cell_type": "code",
   "execution_count": null,
   "id": "b9f5a6ce-b988-40f3-8196-a6f9cb344b28",
   "metadata": {},
   "outputs": [],
   "source": [
    "#Create new features\n",
    "house_test['TotalSF'] = house_test['TotalBsmtSF'] + house_test['GrLivArea'] + house_test['1stFlrSF'] + house_train['2ndFlrSF']\n",
    "house_test['TotalBathRooms'] = house_test['FullBath'] + house_test['BsmtFullBath'] + 0.5 * house_test['HalfBath'] +  0.5 * house_test['BsmtHalfBath']\n",
    "house_test['TotalPorchSF'] = house_test['OpenPorchSF'] + house_test['3SsnPorch'] + house_test['EnclosedPorch'] + house_test['ScreenPorch']"
   ]
  },
  {
   "cell_type": "code",
   "execution_count": null,
   "id": "8f55fc27-7063-405b-87d1-7036b156a4e4",
   "metadata": {},
   "outputs": [],
   "source": [
    "cast_to_cat(house_test, features_to_cast)"
   ]
  },
  {
   "cell_type": "code",
   "execution_count": null,
   "id": "38fb3e14-f8b2-40bc-93c0-40c5b35b6653",
   "metadata": {},
   "outputs": [],
   "source": [
    "house_test.info()"
   ]
  },
  {
   "cell_type": "code",
   "execution_count": null,
   "id": "cd808bbd-cdb8-45bf-b019-3627864f00fd",
   "metadata": {},
   "outputs": [],
   "source": [
    "drop_features(house_test, missing_data_features_to_drop)"
   ]
  },
  {
   "cell_type": "code",
   "execution_count": null,
   "id": "a12a469c-499d-45b5-837c-cee129dff4ac",
   "metadata": {},
   "outputs": [],
   "source": [
    "house_test['SalePrice'] = np.round(ridge_pipeline_grid.best_estimator_.predict(house_test), 2)\n",
    "house_test.head()"
   ]
  },
  {
   "cell_type": "code",
   "execution_count": null,
   "id": "292db642-8a1e-4874-a577-9d1d1698cf87",
   "metadata": {},
   "outputs": [],
   "source": [
    "house_test.to_csv(os.path.join(dir, \"house_prices_submit.csv\"), columns=[\"Id\", \"SalePrice\"], index=False)"
   ]
  },
  {
   "cell_type": "code",
   "execution_count": null,
   "id": "00c7ee36-283c-4cbb-b29b-74783fa66305",
   "metadata": {},
   "outputs": [],
   "source": [
    "rmtree(cachedir)"
   ]
  },
  {
   "cell_type": "code",
   "execution_count": null,
   "id": "f1a49bcc-032f-4443-98d7-bd7233ee2355",
   "metadata": {},
   "outputs": [],
   "source": []
  }
 ],
 "metadata": {
  "kernelspec": {
   "display_name": "Python 3 (ipykernel)",
   "language": "python",
   "name": "python3"
  },
  "language_info": {
   "codemirror_mode": {
    "name": "ipython",
    "version": 3
   },
   "file_extension": ".py",
   "mimetype": "text/x-python",
   "name": "python",
   "nbconvert_exporter": "python",
   "pygments_lexer": "ipython3",
   "version": "3.9.19"
  }
 },
 "nbformat": 4,
 "nbformat_minor": 5
}
