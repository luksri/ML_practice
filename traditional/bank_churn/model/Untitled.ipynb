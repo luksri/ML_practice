{
 "cells": [
  {
   "cell_type": "code",
   "execution_count": null,
   "id": "48aa2cec-1fe8-48a5-9dae-2f082dcb0405",
   "metadata": {},
   "outputs": [],
   "source": [
    "import sklearn\n",
    "import pandas as pd\n",
    "import numpy as np\n",
    "import os\n",
    "from sklearn import preprocessing\n",
    "from sklearn import impute\n",
    "from sklearn import pipeline\n",
    "from sklearn import compose\n",
    "from sklearn import model_selection\n",
    "from sklearn import tree, neighbors"
   ]
  },
  {
   "cell_type": "code",
   "execution_count": null,
   "id": "0c419b41-bb98-45bb-a254-89458484c021",
   "metadata": {},
   "outputs": [],
   "source": [
    "dir = '../'\n",
    "train_data = pd.read_csv(os.path.join(dir, 'train.csv'))\n",
    "train_data.info()"
   ]
  },
  {
   "cell_type": "code",
   "execution_count": null,
   "id": "652c515c-5e0e-4281-a582-b961f3747789",
   "metadata": {},
   "outputs": [],
   "source": [
    "\n",
    "cont_features = ['SibSp', 'Parch', 'Age', 'Fare']\n",
    "stages = [('cont_imp',impute.SimpleImputer()),('scaler', preprocessing.StandardScaler())]\n",
    "cont_pipe = pipeline.Pipeline(stages)\n",
    "cont_pipe"
   ]
  }
 ],
 "metadata": {
  "kernelspec": {
   "display_name": "Python 3 (ipykernel)",
   "language": "python",
   "name": "python3"
  },
  "language_info": {
   "codemirror_mode": {
    "name": "ipython",
    "version": 3
   },
   "file_extension": ".py",
   "mimetype": "text/x-python",
   "name": "python",
   "nbconvert_exporter": "python",
   "pygments_lexer": "ipython3",
   "version": "3.9.19"
  }
 },
 "nbformat": 4,
 "nbformat_minor": 5
}
